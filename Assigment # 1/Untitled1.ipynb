{
 "cells": [
  {
   "cell_type": "code",
   "execution_count": 3,
   "id": "8af8f067",
   "metadata": {
    "scrolled": true
   },
   "outputs": [
    {
     "name": "stdout",
     "output_type": "stream",
     "text": [
      "Hello Muhammad Areeb Khalid\n"
     ]
    }
   ],
   "source": [
    "print(\"Hello Muhammad Areeb Khalid\")"
   ]
  },
  {
   "cell_type": "code",
   "execution_count": null,
   "id": "8cefd7b5",
   "metadata": {},
   "outputs": [],
   "source": []
  }
 ],
 "metadata": {
  "kernelspec": {
   "display_name": "Python 3",
   "language": "python",
   "name": "python3"
  },
  "language_info": {
   "codemirror_mode": {
    "name": "ipython",
    "version": 3
   },
   "file_extension": ".py",
   "mimetype": "text/x-python",
   "name": "python",
   "nbconvert_exporter": "python",
   "pygments_lexer": "ipython3",
   "version": "3.8.8"
  }
 },
 "nbformat": 4,
 "nbformat_minor": 5
}
