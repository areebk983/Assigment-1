{
 "cells": [
  {
   "cell_type": "code",
   "execution_count": 35,
   "id": "bafe80c2",
   "metadata": {},
   "outputs": [
    {
     "name": "stdout",
     "output_type": "stream",
     "text": [
      "Fail\n"
     ]
    }
   ],
   "source": [
    "percent = 100;\n",
    "if percent < 100 and percent > 80:\n",
    "    print(\"Grade A+\");\n",
    "elif percent < 80  and percent > 70:\n",
    "    print(\"Grade A\");\n",
    "elif percent < 70 and percent > 60:\n",
    "    print(\"Grade B\");\n",
    "elif percent < 50 and percent > 40:\n",
    "    print(\"Grade C\");\n",
    "elif percent < 40 and percent > 34:\n",
    "    print (\"Grade D\");\n",
    "else: \n",
    "    print(\"Fail\")"
   ]
  },
  {
   "cell_type": "code",
   "execution_count": 105,
   "id": "3f5312d5",
   "metadata": {},
   "outputs": [
    {
     "name": "stdout",
     "output_type": "stream",
     "text": [
      "Grade A\n"
     ]
    }
   ],
   "source": [
    "percent = 78;\n",
    "\n",
    "if  percent <= 100 and percent >= 80:\n",
    "    print(\"Grade A+\");\n",
    "elif percent  <=80 and percent >= 70:\n",
    "    print(\"Grade A\");\n",
    "elif percent <= 70 and percent >= 60:\n",
    "    print(\"Grade B\");\n",
    "elif percent <= 60 and percent >= 50:\n",
    "    print(\"Grade C\");\n",
    "elif percent <=50 and percent >= 40:\n",
    "    print (\"Grade D\");\n",
    "elif percent <=40 and percent >= 34:\n",
    "    print(\"Grade E\");\n",
    "elif percent  >=101:\n",
    "    print(\"Error\");\n",
    "else: \n",
    "    print(\"Fail\")"
   ]
  },
  {
   "cell_type": "code",
   "execution_count": null,
   "id": "d3d61805",
   "metadata": {},
   "outputs": [],
   "source": []
  },
  {
   "cell_type": "code",
   "execution_count": null,
   "id": "deec59a8",
   "metadata": {},
   "outputs": [],
   "source": []
  },
  {
   "cell_type": "code",
   "execution_count": null,
   "id": "5c76d761",
   "metadata": {},
   "outputs": [],
   "source": []
  },
  {
   "cell_type": "code",
   "execution_count": null,
   "id": "691aabf7",
   "metadata": {},
   "outputs": [],
   "source": []
  }
 ],
 "metadata": {
  "kernelspec": {
   "display_name": "Python 3",
   "language": "python",
   "name": "python3"
  },
  "language_info": {
   "codemirror_mode": {
    "name": "ipython",
    "version": 3
   },
   "file_extension": ".py",
   "mimetype": "text/x-python",
   "name": "python",
   "nbconvert_exporter": "python",
   "pygments_lexer": "ipython3",
   "version": "3.8.8"
  }
 },
 "nbformat": 4,
 "nbformat_minor": 5
}
