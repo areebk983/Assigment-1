{
 "cells": [
  {
   "cell_type": "code",
   "execution_count": 1,
   "id": "7fde23a7",
   "metadata": {},
   "outputs": [
    {
     "name": "stdout",
     "output_type": "stream",
     "text": [
      "Select And Operation To Perform: \n",
      "1. Addition\n",
      "2. Subraction\n",
      "3. Multiplication\n",
      "4. Division\n",
      "5. Power\n",
      "5\n",
      "Enter First Number: 4\n",
      "Enter Second Number: 2\n",
      "The Result is 16\n"
     ]
    }
   ],
   "source": [
    "#Q1) Make a calculator using Python with addition , subtraction ,multiplication ,division and power.\n",
    "\n",
    "print(\"Select And Operation To Perform: \");\n",
    "print(\"1. Addition\");\n",
    "print(\"2. Subraction\");\n",
    "print(\"3. Multiplication\");\n",
    "print(\"4. Division\");\n",
    "print(\"5. Power\");\n",
    "\n",
    "operation = input()\n",
    "if operation == \"1\":\n",
    "    number1 = input(\"Enter First Number: \");\n",
    "    number2 = input(\"Enter Second Number: \");\n",
    "    print(\"The Sum is \" + str(int(number1) + int(number2)));\n",
    "elif operation == \"2\":\n",
    "    number1 = input(\"Enter First Number: \");\n",
    "    number2 = input(\"Enter Second Number: \");\n",
    "    print(\"The Difference is \" + str(int(number1) - int(number2)));\n",
    "elif operation == \"3\":\n",
    "    number1 = input(\"Enter First Number: \");\n",
    "    number2 = input(\"Enter Second Number: \");\n",
    "    print(\"The Product is \" + str(int(number1) * int(number2)));\n",
    "elif operation == \"4\":\n",
    "    number1 = input(\"Enter First Number: \");\n",
    "    number2 = input(\"Enter Second Number: \");\n",
    "    print(\"The Result is \" + str(int(number1) / int(number2)));\n",
    "elif operation == \"5\":\n",
    "    number1 = input(\"Enter First Number: \");\n",
    "    number2 = input(\"Enter Second Number: \");\n",
    "    print(\"The Result is \" + str(int(number1) ** int(number2)));\n",
    "else:\n",
    "    print(\"Invalid Entry\");"
   ]
  },
  {
   "cell_type": "code",
   "execution_count": 2,
   "id": "d7691225",
   "metadata": {},
   "outputs": [
    {
     "name": "stdout",
     "output_type": "stream",
     "text": [
      "Enter Length of List:5\n",
      "Enter the Element:2\n",
      "Enter the Element:8\n",
      "Enter the Element:3\n",
      "Enter the Element:10\n",
      "Enter the Element:7\n",
      "List elements are: [2, 8, 3, 10, 7]\n"
     ]
    }
   ],
   "source": [
    "#Q2) Write a program to check if there is any numeric value in list using for loop\n",
    "\n",
    "x = int(input(\"Enter Length of List:\"));\n",
    "list1 = []\n",
    "for i in range (x):\n",
    "    Element = int(input(\"Enter the Element:\"));\n",
    "    list1.append(Element);\n",
    "print(\"List elements are:\",list1);"
   ]
  },
  {
   "cell_type": "code",
   "execution_count": 3,
   "id": "4a074be8",
   "metadata": {},
   "outputs": [
    {
     "name": "stdout",
     "output_type": "stream",
     "text": [
      "{1: 'Areeb', 2: 'Khalid', 3: 'Ahmed'}\n",
      "{1: 'Areeb', 2: 'Khalid', 3: 'Ahmed', 4: 'Jameel', 5: 'Hassan'}\n"
     ]
    }
   ],
   "source": [
    "#Q3) Write a Python script to add a key to a dictionary.\n",
    "\n",
    "List = {1:\"Areeb\",2:\"Khalid\",3:\"Ahmed\"};\n",
    "print(List)\n",
    "\n",
    "List.update({4:\"Jameel\",5:\"Hassan\"});\n",
    "print(List)"
   ]
  },
  {
   "cell_type": "code",
   "execution_count": 4,
   "id": "161cc115",
   "metadata": {},
   "outputs": [
    {
     "name": "stdout",
     "output_type": "stream",
     "text": [
      "The sum is \n",
      "322\n"
     ]
    }
   ],
   "source": [
    "#Q4) Write a Python program to sum all the numeric items in a dictionary.\n",
    "\n",
    "dic = {'Physics':80, 'Maths':92, 'English':80, 'Urdu':70}\n",
    "print(\"The sum is \");\n",
    "print(sum(dic.values()));"
   ]
  },
  {
   "cell_type": "code",
   "execution_count": 5,
   "id": "b7705ec1",
   "metadata": {},
   "outputs": [
    {
     "name": "stdout",
     "output_type": "stream",
     "text": [
      "[2, 5, 9, 100]\n"
     ]
    }
   ],
   "source": [
    "#Q5) Write a program to identify duplicate values from list.\n",
    "\n",
    "list1 = [2,5,9,18,60,100,1010];\n",
    "list2 = [76,55,2,9,77,5,100];\n",
    "X = []\n",
    "for i in list1:\n",
    "    for j in list2:\n",
    "        if i == j :\n",
    "            X.append(i);\n",
    "print(X);"
   ]
  },
  {
   "cell_type": "code",
   "execution_count": 8,
   "id": "329f88c2",
   "metadata": {},
   "outputs": [
    {
     "name": "stdout",
     "output_type": "stream",
     "text": [
      "Enter The Key To Be Verified Areeb\n",
      "Key is present in a dictionary\n",
      "Value: 550\n"
     ]
    }
   ],
   "source": [
    "#Q6) Write a Python script to check if a given key already exists in a dictionary\n",
    "\n",
    "l = {\"Areeb\": 550,\"Khalid\": 660,\"Ahmed\": 450,\"Hassan\": 595};\n",
    "user_ip = input(\"Enter The Key To Be Verified \");\n",
    "if user_ip in l.keys():\n",
    "    print(\"Key is present in a dictionary\");\n",
    "    print(\"Value\" \":\" , l[user_ip]);\n",
    "else:\n",
    "    print(\"Key does not present in a dictionary\");"
   ]
  },
  {
   "cell_type": "code",
   "execution_count": null,
   "id": "3a12f011",
   "metadata": {},
   "outputs": [],
   "source": []
  }
 ],
 "metadata": {
  "kernelspec": {
   "display_name": "Python 3",
   "language": "python",
   "name": "python3"
  },
  "language_info": {
   "codemirror_mode": {
    "name": "ipython",
    "version": 3
   },
   "file_extension": ".py",
   "mimetype": "text/x-python",
   "name": "python",
   "nbconvert_exporter": "python",
   "pygments_lexer": "ipython3",
   "version": "3.8.8"
  }
 },
 "nbformat": 4,
 "nbformat_minor": 5
}
