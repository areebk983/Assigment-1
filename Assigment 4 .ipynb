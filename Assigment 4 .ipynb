{
 "cells": [
  {
   "cell_type": "code",
   "execution_count": 1,
   "id": "63cb69bf",
   "metadata": {},
   "outputs": [
    {
     "name": "stdout",
     "output_type": "stream",
     "text": [
      "       Twinkle, twinkle, little star,\n",
      "How I wonder what you are!\n",
      "Up above the world so high\n",
      "                         Like a diamond in the sky.\n",
      "Twinkle, twinkle, little star,\n",
      "How I wonder what you are\n"
     ]
    }
   ],
   "source": [
    "#Q1. Write a Python program to print the following string in a specific format (see the  output).  \n",
    "       #Twinkle, twinkle, little star,  \n",
    "#How I wonder what you are!  \n",
    "#Up above the world so high,  \n",
    "                        #Like a diamond in the sky.  \n",
    "#Twinkle, twinkle, little star,\n",
    "#How I wonder what you are\n",
    "#Ans:1\n",
    "\n",
    "print('''       Twinkle, twinkle, little star,\\nHow I wonder what you are!\\nUp above the world so high\\n                         Like a diamond in the sky.\\nTwinkle, twinkle, little star,\\nHow I wonder what you are''');\n",
    "\n"
   ]
  },
  {
   "cell_type": "code",
   "execution_count": 2,
   "id": "9fdd5771",
   "metadata": {},
   "outputs": [
    {
     "name": "stdout",
     "output_type": "stream",
     "text": [
      "Python Version\n",
      "3.8.8 (default, Apr 13 2021, 15:08:03) [MSC v.1916 64 bit (AMD64)]\n",
      "Version info.\n",
      "sys.version_info(major=3, minor=8, micro=8, releaselevel='final', serial=0)\n"
     ]
    }
   ],
   "source": [
    "#Q2. Write a Python program to get the Python version you are using\n",
    "#Ans: 2\n",
    "\n",
    "import sys\n",
    "print(\"Python Version\");\n",
    "print(sys.version);\n",
    "print(\"Version info.\");\n",
    "print(sys.version_info);"
   ]
  },
  {
   "cell_type": "code",
   "execution_count": 3,
   "id": "946c4fa6",
   "metadata": {},
   "outputs": [
    {
     "name": "stdout",
     "output_type": "stream",
     "text": [
      "current date and time is: \n",
      "21-10-23 13:03:39\n"
     ]
    }
   ],
   "source": [
    "#Q3. Write a Python program to display the current date and time.\n",
    "#Ans: 3\n",
    "\n",
    "import datetime\n",
    "now = datetime.datetime.now()\n",
    "print(\"current date and time is: \");\n",
    "print(now.strftime(\"%y-%m-%d %H:%M:%S\"));\n"
   ]
  },
  {
   "cell_type": "code",
   "execution_count": 4,
   "id": "77eaebc9",
   "metadata": {},
   "outputs": [
    {
     "name": "stdout",
     "output_type": "stream",
     "text": [
      "Enter Radius Of a circle 5\n",
      "print area of circle is 78.5\n"
     ]
    }
   ],
   "source": [
    "#Q4. Write a Python program which accepts the radius of a circle from the user and compute  the area.(Using Integer)  \n",
    "#Ans: 4\n",
    "#Part: 1 (Whole Number)\n",
    "\n",
    "r = int(input(\"Enter Radius Of a circle \" ));\n",
    "a = 3.14*r**2\n",
    "print(\"print area of circle is\",a);"
   ]
  },
  {
   "cell_type": "code",
   "execution_count": 5,
   "id": "55c625ba",
   "metadata": {},
   "outputs": [
    {
     "name": "stdout",
     "output_type": "stream",
     "text": [
      "Enter Radius Of a circle 5.5\n",
      "print area of circle is 94.985\n"
     ]
    }
   ],
   "source": [
    "#Q4. Write a Python program which accepts the radius of a circle from the user and compute  the area.(Using float)  \n",
    "#Ans: 4\n",
    "#Part: 2 (Whole Number + Decimal Number)\n",
    "\n",
    "r = float(input(\"Enter Radius Of a circle \" ));\n",
    "a = 3.14*r**2\n",
    "print(\"print area of circle is\",a);"
   ]
  },
  {
   "cell_type": "code",
   "execution_count": 8,
   "id": "5203d207",
   "metadata": {},
   "outputs": [
    {
     "name": "stdout",
     "output_type": "stream",
     "text": [
      "Enter Your First Name Areeb\n",
      "Enter Your Last Name Khalid\n",
      "  Khalid Areeb\n"
     ]
    }
   ],
   "source": [
    "#Q5. Write a Python program which accepts the user's first and last name and print them in  reverse order with a space between them.\n",
    "#Ans: 5\n",
    "\n",
    "# Write a Python program which accepts the user's first and last name and print them in  reverse order \n",
    "\n",
    "fname=input(\"Enter Your First Name \");\n",
    "lname=input(\"Enter Your Last Name \");\n",
    "print(\" \"+\" \"+lname+\" \"+fname);"
   ]
  },
  {
   "cell_type": "code",
   "execution_count": 9,
   "id": "89e732b7",
   "metadata": {},
   "outputs": [
    {
     "name": "stdout",
     "output_type": "stream",
     "text": [
      "Enter First Number: 15\n",
      "Enter Second Number: 25\n",
      "Result:  40\n"
     ]
    }
   ],
   "source": [
    "#Q6. Write a python program which takes two inputs from user and print them addition \n",
    "#Ans: 6\n",
    "\n",
    "A = int(input (\"Enter First Number: \"));\n",
    "B = int(input (\"Enter Second Number: \"));\n",
    "C = A + B\n",
    "print(\"Result: \",C);"
   ]
  },
  {
   "cell_type": "code",
   "execution_count": 10,
   "id": "7168f2de",
   "metadata": {},
   "outputs": [
    {
     "name": "stdout",
     "output_type": "stream",
     "text": [
      "Enter marks of 5 Subjects\n",
      "Enter English Marks: 90\n",
      "Enter Maths Marks: 75\n",
      "Enter Islamiat Marks: 83\n",
      "Enter Physics Marks: 93\n",
      "Enter Chemistry Marks: 71\n",
      "Marks Obtained: 412\n",
      "Total Marks: 500\n",
      "Result : PASS\n",
      "Percentage : 82.4\n",
      "Grade A+\n"
     ]
    }
   ],
   "source": [
    "#Q7. Write a program which takes 5 inputs from user for different subject’s marks, total it  and generate mark sheet using grades ?  \n",
    "#Ans:7\n",
    "\n",
    "print(\"Enter marks of 5 Subjects\");\n",
    "English=int(input (\"Enter English Marks: \"));\n",
    "Maths=int(input (\"Enter Maths Marks: \"));\n",
    "Islamiat=int(input (\"Enter Islamiat Marks: \"));\n",
    "Physics=int(input (\"Enter Physics Marks: \"));\n",
    "Chemistry=int(input (\"Enter Chemistry Marks: \"));\n",
    "print (\"Marks Obtained:\",English+Maths+Islamiat+Physics+Chemistry );\n",
    "print(\"Total Marks:\" ,500);\n",
    "print(\"Result : PASS\");\n",
    "Per=(English+Maths+Islamiat+Physics+Chemistry)/5\n",
    "print(\"Percentage :\",Per);\n",
    "if  Per <= 100 and Per >= 80:\n",
    "    print(\"Grade A+\");\n",
    "elif Per  <=80 and Per >= 70:\n",
    "    print(\"Grade A\");\n",
    "elif Per <= 70 and Per >= 60:\n",
    "    print(\"Grade B\");\n",
    "elif Per <= 60 and Per >= 50:\n",
    "    print(\"Grade C\");\n",
    "elif Per <=50 and Per >= 40:\n",
    "    print (\"Grade D\");\n",
    "elif Per <=40 and Per >= 34:\n",
    "    print(\"Grade E\");\n",
    "else: \n",
    "    print(\"Fail\")\n"
   ]
  },
  {
   "cell_type": "code",
   "execution_count": 11,
   "id": "65f350c0",
   "metadata": {},
   "outputs": [
    {
     "name": "stdout",
     "output_type": "stream",
     "text": [
      "Enter Number: 57\n",
      "57  is an odd number\n"
     ]
    }
   ],
   "source": [
    "#Q8. Write a program which take input from user and identify that the given number is even  or odd?  \n",
    "#Ans: 8\n",
    "\n",
    "Number = int(input (\"Enter Number: \"));\n",
    "Reminder= Number % 2\n",
    "if (Reminder == 0):\n",
    "    print(Number, \" is an even number\");\n",
    "else:\n",
    "     print(Number, \" is an odd number\");"
   ]
  },
  {
   "cell_type": "code",
   "execution_count": 12,
   "id": "aa8fdb04",
   "metadata": {},
   "outputs": [
    {
     "name": "stdout",
     "output_type": "stream",
     "text": [
      "9\n"
     ]
    }
   ],
   "source": [
    "#Q9. Write a program which print the length of the list?\n",
    "#Ans: 9\n",
    "\n",
    "List=[\"Areeb\",1,19,17,50,90,70,\"Lion\",1.097];\n",
    "count=0\n",
    "for x in List:\n",
    "    count = count+1\n",
    "print(count);\n",
    "  \n"
   ]
  },
  {
   "cell_type": "code",
   "execution_count": 13,
   "id": "1848eb4f",
   "metadata": {},
   "outputs": [
    {
     "name": "stdout",
     "output_type": "stream",
     "text": [
      "Sum of all number in given list:  182\n"
     ]
    }
   ],
   "source": [
    "#Q10. Write a Python program to sum all the numeric items in a list? \n",
    "#Ans: 10\n",
    "\n",
    "list2=[70,30,15,12,55];\n",
    "total=sum(list2);\n",
    "print(\"Sum of all number in given list: \", total);\n",
    "\n"
   ]
  },
  {
   "cell_type": "code",
   "execution_count": 14,
   "id": "c3854089",
   "metadata": {},
   "outputs": [
    {
     "name": "stdout",
     "output_type": "stream",
     "text": [
      "Largest number is:  178\n"
     ]
    }
   ],
   "source": [
    "#Q11. Write a Python program to get the largest number from a numeric list.  \n",
    "#Ans: 11\n",
    "\n",
    "list3=[70,30,15,12,178];\n",
    "print(\"Largest number is: \", max(list3));"
   ]
  },
  {
   "cell_type": "code",
   "execution_count": 15,
   "id": "2e3bb673",
   "metadata": {},
   "outputs": [
    {
     "name": "stdout",
     "output_type": "stream",
     "text": [
      "[1, 1, 2, 3]\n"
     ]
    }
   ],
   "source": [
    "#Q12. Take a list, say for example this one: a = [1, 1, 2, 3, 5, 8, 13, 21, 34, 55, 89]  Write a program that prints out all the elements of the list that are less than 5.\n",
    "#Ans: 12\n",
    "\n",
    "a = [1, 1, 2, 3, 5, 8, 13, 21, 34, 55, 89];  \n",
    "lst=[];\n",
    "for i in a:\n",
    "    if i<5:\n",
    "        lst.append(i);\n",
    "print(lst);"
   ]
  },
  {
   "cell_type": "code",
   "execution_count": null,
   "id": "e975a836",
   "metadata": {},
   "outputs": [],
   "source": []
  }
 ],
 "metadata": {
  "kernelspec": {
   "display_name": "Python 3",
   "language": "python",
   "name": "python3"
  },
  "language_info": {
   "codemirror_mode": {
    "name": "ipython",
    "version": 3
   },
   "file_extension": ".py",
   "mimetype": "text/x-python",
   "name": "python",
   "nbconvert_exporter": "python",
   "pygments_lexer": "ipython3",
   "version": "3.8.8"
  }
 },
 "nbformat": 4,
 "nbformat_minor": 5
}
